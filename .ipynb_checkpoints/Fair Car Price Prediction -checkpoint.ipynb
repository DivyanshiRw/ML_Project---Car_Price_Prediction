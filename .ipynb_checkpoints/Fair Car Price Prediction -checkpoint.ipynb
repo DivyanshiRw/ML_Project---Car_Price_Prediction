{
 "cells": [
  {
   "cell_type": "markdown",
   "id": "fc64976c",
   "metadata": {},
   "source": [
    "# FAIR CAR PRICE PREDICTION\n"
   ]
  },
  {
   "cell_type": "code",
   "execution_count": 1,
   "id": "ce9dfd63",
   "metadata": {},
   "outputs": [],
   "source": [
    "import pandas as pd"
   ]
  },
  {
   "cell_type": "code",
   "execution_count": 2,
   "id": "5d6baca0",
   "metadata": {},
   "outputs": [],
   "source": [
    "cars=pd.read_csv(\"cars24_usedCars.csv\")"
   ]
  },
  {
   "cell_type": "code",
   "execution_count": 3,
   "id": "2207eb7c",
   "metadata": {},
   "outputs": [
    {
     "data": {
      "text/html": [
       "<div>\n",
       "<style scoped>\n",
       "    .dataframe tbody tr th:only-of-type {\n",
       "        vertical-align: middle;\n",
       "    }\n",
       "\n",
       "    .dataframe tbody tr th {\n",
       "        vertical-align: top;\n",
       "    }\n",
       "\n",
       "    .dataframe thead th {\n",
       "        text-align: right;\n",
       "    }\n",
       "</style>\n",
       "<table border=\"1\" class=\"dataframe\">\n",
       "  <thead>\n",
       "    <tr style=\"text-align: right;\">\n",
       "      <th></th>\n",
       "      <th>Unnamed: 0</th>\n",
       "      <th>Car Name</th>\n",
       "      <th>Year</th>\n",
       "      <th>Distance</th>\n",
       "      <th>Owner</th>\n",
       "      <th>Fuel</th>\n",
       "      <th>Location</th>\n",
       "      <th>Drive</th>\n",
       "      <th>Type</th>\n",
       "      <th>Price</th>\n",
       "    </tr>\n",
       "  </thead>\n",
       "  <tbody>\n",
       "    <tr>\n",
       "      <th>0</th>\n",
       "      <td>0</td>\n",
       "      <td>Maruti S PRESSO</td>\n",
       "      <td>2022.0</td>\n",
       "      <td>3878</td>\n",
       "      <td>1</td>\n",
       "      <td>PETROL</td>\n",
       "      <td>HR-98</td>\n",
       "      <td>Manual</td>\n",
       "      <td>HatchBack</td>\n",
       "      <td>514000</td>\n",
       "    </tr>\n",
       "    <tr>\n",
       "      <th>1</th>\n",
       "      <td>1</td>\n",
       "      <td>Hyundai Xcent</td>\n",
       "      <td>2018.0</td>\n",
       "      <td>32041</td>\n",
       "      <td>1</td>\n",
       "      <td>PETROL</td>\n",
       "      <td>TN-22</td>\n",
       "      <td>Manual</td>\n",
       "      <td>Sedan</td>\n",
       "      <td>674000</td>\n",
       "    </tr>\n",
       "    <tr>\n",
       "      <th>2</th>\n",
       "      <td>2</td>\n",
       "      <td>Tata Safari</td>\n",
       "      <td>2021.0</td>\n",
       "      <td>96339</td>\n",
       "      <td>1</td>\n",
       "      <td>DIESEL</td>\n",
       "      <td>TS-08</td>\n",
       "      <td>Automatic</td>\n",
       "      <td>SUV</td>\n",
       "      <td>1952000</td>\n",
       "    </tr>\n",
       "    <tr>\n",
       "      <th>3</th>\n",
       "      <td>3</td>\n",
       "      <td>Maruti Vitara Brezza</td>\n",
       "      <td>2019.0</td>\n",
       "      <td>51718</td>\n",
       "      <td>1</td>\n",
       "      <td>DIESEL</td>\n",
       "      <td>WB-24</td>\n",
       "      <td>Manual</td>\n",
       "      <td>SUV</td>\n",
       "      <td>690000</td>\n",
       "    </tr>\n",
       "    <tr>\n",
       "      <th>4</th>\n",
       "      <td>4</td>\n",
       "      <td>Tata Tiago</td>\n",
       "      <td>2021.0</td>\n",
       "      <td>19811</td>\n",
       "      <td>1</td>\n",
       "      <td>PETROL</td>\n",
       "      <td>HR-51</td>\n",
       "      <td>Manual</td>\n",
       "      <td>HatchBack</td>\n",
       "      <td>526000</td>\n",
       "    </tr>\n",
       "  </tbody>\n",
       "</table>\n",
       "</div>"
      ],
      "text/plain": [
       "   Unnamed: 0              Car Name    Year  Distance  Owner    Fuel Location  \\\n",
       "0           0       Maruti S PRESSO  2022.0      3878      1  PETROL    HR-98   \n",
       "1           1         Hyundai Xcent  2018.0     32041      1  PETROL    TN-22   \n",
       "2           2           Tata Safari  2021.0     96339      1  DIESEL    TS-08   \n",
       "3           3  Maruti Vitara Brezza  2019.0     51718      1  DIESEL    WB-24   \n",
       "4           4            Tata Tiago  2021.0     19811      1  PETROL    HR-51   \n",
       "\n",
       "       Drive       Type    Price  \n",
       "0     Manual  HatchBack   514000  \n",
       "1     Manual      Sedan   674000  \n",
       "2  Automatic        SUV  1952000  \n",
       "3     Manual        SUV   690000  \n",
       "4     Manual  HatchBack   526000  "
      ]
     },
     "execution_count": 3,
     "metadata": {},
     "output_type": "execute_result"
    }
   ],
   "source": [
    "cars.head()"
   ]
  },
  {
   "cell_type": "code",
   "execution_count": 4,
   "id": "6d119235",
   "metadata": {},
   "outputs": [
    {
     "name": "stdout",
     "output_type": "stream",
     "text": [
      "<class 'pandas.core.frame.DataFrame'>\n",
      "RangeIndex: 8015 entries, 0 to 8014\n",
      "Data columns (total 10 columns):\n",
      " #   Column      Non-Null Count  Dtype  \n",
      "---  ------      --------------  -----  \n",
      " 0   Unnamed: 0  8015 non-null   int64  \n",
      " 1   Car Name    8014 non-null   object \n",
      " 2   Year        8014 non-null   float64\n",
      " 3   Distance    8015 non-null   int64  \n",
      " 4   Owner       8015 non-null   int64  \n",
      " 5   Fuel        8015 non-null   object \n",
      " 6   Location    7802 non-null   object \n",
      " 7   Drive       8015 non-null   object \n",
      " 8   Type        8015 non-null   object \n",
      " 9   Price       8015 non-null   int64  \n",
      "dtypes: float64(1), int64(4), object(5)\n",
      "memory usage: 626.3+ KB\n"
     ]
    }
   ],
   "source": [
    "cars.info()"
   ]
  },
  {
   "cell_type": "code",
   "execution_count": 5,
   "id": "091c7ec4",
   "metadata": {},
   "outputs": [
    {
     "data": {
      "text/html": [
       "<div>\n",
       "<style scoped>\n",
       "    .dataframe tbody tr th:only-of-type {\n",
       "        vertical-align: middle;\n",
       "    }\n",
       "\n",
       "    .dataframe tbody tr th {\n",
       "        vertical-align: top;\n",
       "    }\n",
       "\n",
       "    .dataframe thead th {\n",
       "        text-align: right;\n",
       "    }\n",
       "</style>\n",
       "<table border=\"1\" class=\"dataframe\">\n",
       "  <thead>\n",
       "    <tr style=\"text-align: right;\">\n",
       "      <th></th>\n",
       "      <th>Unnamed: 0</th>\n",
       "      <th>Year</th>\n",
       "      <th>Distance</th>\n",
       "      <th>Owner</th>\n",
       "      <th>Price</th>\n",
       "    </tr>\n",
       "  </thead>\n",
       "  <tbody>\n",
       "    <tr>\n",
       "      <th>count</th>\n",
       "      <td>8015.000000</td>\n",
       "      <td>8014.000000</td>\n",
       "      <td>8015.000000</td>\n",
       "      <td>8015.000000</td>\n",
       "      <td>8.015000e+03</td>\n",
       "    </tr>\n",
       "    <tr>\n",
       "      <th>mean</th>\n",
       "      <td>4007.000000</td>\n",
       "      <td>2016.995009</td>\n",
       "      <td>52621.411728</td>\n",
       "      <td>1.300187</td>\n",
       "      <td>5.748829e+05</td>\n",
       "    </tr>\n",
       "    <tr>\n",
       "      <th>std</th>\n",
       "      <td>2313.875537</td>\n",
       "      <td>2.861454</td>\n",
       "      <td>29182.922728</td>\n",
       "      <td>0.510893</td>\n",
       "      <td>2.651049e+05</td>\n",
       "    </tr>\n",
       "    <tr>\n",
       "      <th>min</th>\n",
       "      <td>0.000000</td>\n",
       "      <td>2010.000000</td>\n",
       "      <td>0.000000</td>\n",
       "      <td>1.000000</td>\n",
       "      <td>1.190000e+05</td>\n",
       "    </tr>\n",
       "    <tr>\n",
       "      <th>25%</th>\n",
       "      <td>2003.500000</td>\n",
       "      <td>2015.000000</td>\n",
       "      <td>30730.000000</td>\n",
       "      <td>1.000000</td>\n",
       "      <td>3.930000e+05</td>\n",
       "    </tr>\n",
       "    <tr>\n",
       "      <th>50%</th>\n",
       "      <td>4007.000000</td>\n",
       "      <td>2017.000000</td>\n",
       "      <td>50359.000000</td>\n",
       "      <td>1.000000</td>\n",
       "      <td>5.350000e+05</td>\n",
       "    </tr>\n",
       "    <tr>\n",
       "      <th>75%</th>\n",
       "      <td>6010.500000</td>\n",
       "      <td>2019.000000</td>\n",
       "      <td>71762.000000</td>\n",
       "      <td>2.000000</td>\n",
       "      <td>6.980000e+05</td>\n",
       "    </tr>\n",
       "    <tr>\n",
       "      <th>max</th>\n",
       "      <td>8014.000000</td>\n",
       "      <td>2023.000000</td>\n",
       "      <td>971212.000000</td>\n",
       "      <td>4.000000</td>\n",
       "      <td>3.300000e+06</td>\n",
       "    </tr>\n",
       "  </tbody>\n",
       "</table>\n",
       "</div>"
      ],
      "text/plain": [
       "        Unnamed: 0         Year       Distance        Owner         Price\n",
       "count  8015.000000  8014.000000    8015.000000  8015.000000  8.015000e+03\n",
       "mean   4007.000000  2016.995009   52621.411728     1.300187  5.748829e+05\n",
       "std    2313.875537     2.861454   29182.922728     0.510893  2.651049e+05\n",
       "min       0.000000  2010.000000       0.000000     1.000000  1.190000e+05\n",
       "25%    2003.500000  2015.000000   30730.000000     1.000000  3.930000e+05\n",
       "50%    4007.000000  2017.000000   50359.000000     1.000000  5.350000e+05\n",
       "75%    6010.500000  2019.000000   71762.000000     2.000000  6.980000e+05\n",
       "max    8014.000000  2023.000000  971212.000000     4.000000  3.300000e+06"
      ]
     },
     "execution_count": 5,
     "metadata": {},
     "output_type": "execute_result"
    }
   ],
   "source": [
    "cars.describe()"
   ]
  },
  {
   "cell_type": "code",
   "execution_count": 6,
   "id": "9aa0c273",
   "metadata": {},
   "outputs": [],
   "source": [
    "%matplotlib inline"
   ]
  },
  {
   "cell_type": "code",
   "execution_count": 7,
   "id": "fcd369a6",
   "metadata": {},
   "outputs": [
    {
     "data": {
      "text/plain": [
       "array([[<Axes: title={'center': 'Unnamed: 0'}>,\n",
       "        <Axes: title={'center': 'Year'}>],\n",
       "       [<Axes: title={'center': 'Distance'}>,\n",
       "        <Axes: title={'center': 'Owner'}>],\n",
       "       [<Axes: title={'center': 'Price'}>, <Axes: >]], dtype=object)"
      ]
     },
     "execution_count": 7,
     "metadata": {},
     "output_type": "execute_result"
    },
    {
     "data": {
      "image/png": "[encoded data removed]",
      "text/plain": [
       "<Figure size 2000x1500 with 6 Axes>"
      ]
     },
     "metadata": {},
     "output_type": "display_data"
    }
   ],
   "source": [
    "import matplotlib.pyplot as plt\n",
    "cars.hist(bins=50, figsize=(20,15))"
   ]
  },
  {
   "cell_type": "markdown",
   "id": "5153ce94",
   "metadata": {},
   "source": [
    "# Train-Test Split"
   ]
  },
  {
   "cell_type": "code",
   "execution_count": 8,
   "id": "98257ae8",
   "metadata": {},
   "outputs": [
    {
     "name": "stdout",
     "output_type": "stream",
     "text": [
      "Rows in train set: 6412\n",
      "Rows in test set: 1603\n"
     ]
    }
   ],
   "source": [
    "from sklearn.model_selection import train_test_split\n",
    "train_set, test_set=train_test_split(cars, test_size=0.2, random_state=42)\n",
    "print(f\"Rows in train set: {len(train_set)}\\nRows in test set: {len(test_set)}\")"
   ]
  },
  {
   "cell_type": "code",
   "execution_count": 9,
   "id": "cbd9a01c",
   "metadata": {},
   "outputs": [
    {
     "data": {
      "text/plain": [
       "Owner\n",
       "1    5812\n",
       "2    2001\n",
       "3     201\n",
       "4       1\n",
       "Name: count, dtype: int64"
      ]
     },
     "execution_count": 9,
     "metadata": {},
     "output_type": "execute_result"
    }
   ],
   "source": [
    "cars['Owner'].value_counts()"
   ]
  },
  {
   "cell_type": "code",
   "execution_count": 10,
   "id": "4d3993a2",
   "metadata": {},
   "outputs": [
    {
     "data": {
      "text/plain": [
       "Drive\n",
       "Manual       6455\n",
       "Automatic    1560\n",
       "Name: count, dtype: int64"
      ]
     },
     "execution_count": 10,
     "metadata": {},
     "output_type": "execute_result"
    }
   ],
   "source": [
    "cars['Drive'].value_counts()"
   ]
  },
  {
   "cell_type": "code",
   "execution_count": 11,
   "id": "617d18e7",
   "metadata": {},
   "outputs": [],
   "source": [
    "from sklearn.model_selection import StratifiedShuffleSplit\n",
    "split=StratifiedShuffleSplit(n_splits=1, test_size=0.2, random_state=42)\n",
    "for train_index, test_index in split.split(cars, cars['Drive']):\n",
    "    strat_train_set=cars.loc[train_index]\n",
    "    strat_test_set=cars.loc[test_index]\n",
    "\n",
    "    \n",
    "strat_train_set['Drive'].value_counts()\n",
    "strat_test_set['Drive'].value_counts()\n",
    "\n",
    "\n",
    "\n",
    "\n",
    "#Before looking for correlations, make sure to create a copy of the data\n",
    "cars=strat_train_set.copy()"
   ]
  },
  {
   "cell_type": "markdown",
   "id": "d5c16898",
   "metadata": {},
   "source": [
    "# Looking for correlations"
   ]
  },
  {
   "cell_type": "code",
   "execution_count": 12,
   "id": "6a46d834",
   "metadata": {},
   "outputs": [],
   "source": [
    "cars_temp=cars.copy()\n",
    "columns_to_exclude = ['Car Name', 'Fuel', 'Location', 'Drive', 'Type']  # Add the column names you want to exclude\n",
    "\n",
    "# Drop the specified columns from the temporary dataset\n",
    "cars_temp.drop(columns=columns_to_exclude, inplace=True)"
   ]
  },
  {
   "cell_type": "code",
   "execution_count": 13,
   "id": "1318b490",
   "metadata": {},
   "outputs": [
    {
     "data": {
      "text/plain": [
       "Price         1.000000\n",
       "Year          0.502103\n",
       "Unnamed: 0   -0.012974\n",
       "Owner        -0.144166\n",
       "Distance     -0.188174\n",
       "Name: Price, dtype: float64"
      ]
     },
     "execution_count": 13,
     "metadata": {},
     "output_type": "execute_result"
    }
   ],
   "source": [
    "corr_matrix=cars_temp.corr()\n",
    "corr_matrix['Price'].sort_values(ascending=False)"
   ]
  },
  {
   "cell_type": "code",
   "execution_count": 14,
   "id": "dbee041d",
   "metadata": {},
   "outputs": [
    {
     "data": {
      "text/plain": [
       "array([[<Axes: xlabel='Price', ylabel='Price'>,\n",
       "        <Axes: xlabel='Year', ylabel='Price'>,\n",
       "        <Axes: xlabel='Owner', ylabel='Price'>,\n",
       "        <Axes: xlabel='Distance', ylabel='Price'>],\n",
       "       [<Axes: xlabel='Price', ylabel='Year'>,\n",
       "        <Axes: xlabel='Year', ylabel='Year'>,\n",
       "        <Axes: xlabel='Owner', ylabel='Year'>,\n",
       "        <Axes: xlabel='Distance', ylabel='Year'>],\n",
       "       [<Axes: xlabel='Price', ylabel='Owner'>,\n",
       "        <Axes: xlabel='Year', ylabel='Owner'>,\n",
       "        <Axes: xlabel='Owner', ylabel='Owner'>,\n",
       "        <Axes: xlabel='Distance', ylabel='Owner'>],\n",
       "       [<Axes: xlabel='Price', ylabel='Distance'>,\n",
       "        <Axes: xlabel='Year', ylabel='Distance'>,\n",
       "        <Axes: xlabel='Owner', ylabel='Distance'>,\n",
       "        <Axes: xlabel='Distance', ylabel='Distance'>]], dtype=object)"
      ]
     },
     "execution_count": 14,
     "metadata": {},
     "output_type": "execute_result"
    },
    {
     "data": {
      "image/png": "[encoded data removed]",
      "text/plain": [
       "<Figure size 1200x800 with 16 Axes>"
      ]
     },
     "metadata": {},
     "output_type": "display_data"
    }
   ],
   "source": [
    "from pandas.plotting import scatter_matrix\n",
    "attributes=['Price','Year','Owner','Distance']\n",
    "scatter_matrix(cars_temp[attributes], figsize=(12,8))"
   ]
  },
  {
   "cell_type": "code",
   "execution_count": 15,
   "id": "b20a8750",
   "metadata": {
    "scrolled": true
   },
   "outputs": [
    {
     "data": {
      "text/plain": [
       "<Axes: xlabel='Distance', ylabel='Price'>"
      ]
     },
     "execution_count": 15,
     "metadata": {},
     "output_type": "execute_result"
    },
    {
     "data": {
      "image/png": "[encoded data removed]",
      "text/plain": [
       "<Figure size 640x480 with 1 Axes>"
      ]
     },
     "metadata": {},
     "output_type": "display_data"
    }
   ],
   "source": [
    "cars.plot(kind='scatter', x='Distance', y='Price', alpha=0.8)"
   ]
  },
  {
   "cell_type": "code",
   "execution_count": 16,
   "id": "88ab8e36",
   "metadata": {},
   "outputs": [],
   "source": [
    "cars=strat_train_set.drop(\"Location\", axis=1, inplace=True)\n",
    "cars=strat_test_set.drop(\"Location\", axis=1, inplace=True)\n",
    "\n",
    "cars=strat_train_set.drop(\"Unnamed: 0\", axis=1, inplace=True)\n",
    "cars=strat_test_set.drop(\"Unnamed: 0\", axis=1, inplace=True)"
   ]
  },
  {
   "cell_type": "code",
   "execution_count": 17,
   "id": "40235efa",
   "metadata": {},
   "outputs": [],
   "source": [
    "cars=strat_train_set.drop(\"Price\", axis=1)\n",
    "cars_labels=strat_train_set['Price'].copy()\n",
    "\n"
   ]
  },
  {
   "cell_type": "code",
   "execution_count": 18,
   "id": "a4f03a83",
   "metadata": {},
   "outputs": [
    {
     "data": {
      "text/plain": [
       "(6412, 7)"
      ]
     },
     "execution_count": 18,
     "metadata": {},
     "output_type": "execute_result"
    }
   ],
   "source": [
    "cars.shape"
   ]
  },
  {
   "cell_type": "code",
   "execution_count": 19,
   "id": "d7315a3a",
   "metadata": {},
   "outputs": [
    {
     "name": "stdout",
     "output_type": "stream",
     "text": [
      "<class 'pandas.core.frame.DataFrame'>\n",
      "Index: 6412 entries, 6027 to 4702\n",
      "Data columns (total 7 columns):\n",
      " #   Column    Non-Null Count  Dtype  \n",
      "---  ------    --------------  -----  \n",
      " 0   Car Name  6411 non-null   object \n",
      " 1   Year      6411 non-null   float64\n",
      " 2   Distance  6412 non-null   int64  \n",
      " 3   Owner     6412 non-null   int64  \n",
      " 4   Fuel      6412 non-null   object \n",
      " 5   Drive     6412 non-null   object \n",
      " 6   Type      6412 non-null   object \n",
      "dtypes: float64(1), int64(2), object(4)\n",
      "memory usage: 400.8+ KB\n"
     ]
    }
   ],
   "source": [
    "cars.info()"
   ]
  },
  {
   "cell_type": "code",
   "execution_count": 20,
   "id": "0a8cfd94",
   "metadata": {},
   "outputs": [],
   "source": [
    "median= cars['Year'].median()           \n",
    "cars['Year'].fillna(median, inplace=True)"
   ]
  },
  {
   "cell_type": "code",
   "execution_count": 21,
   "id": "ee8dd091",
   "metadata": {},
   "outputs": [],
   "source": [
    "mode_car_name = cars['Car Name'].mode().iloc[0]\n",
    "cars['Car Name'].fillna(mode_car_name, inplace=True)"
   ]
  },
  {
   "cell_type": "code",
   "execution_count": 22,
   "id": "33858c81",
   "metadata": {},
   "outputs": [],
   "source": [
    "#To deal with missing values which might be encountered in future\n",
    "from sklearn.impute import SimpleImputer\n",
    "\n",
    "# Create separate DataFrames for numeric and non-numeric columns\n",
    "numeric_columns = cars.select_dtypes(include='number')\n",
    "non_numeric_columns = cars.select_dtypes(exclude='number')\n",
    "\n",
    "# Apply imputation to numeric columns\n",
    "numeric_imputer = SimpleImputer(strategy='median')\n",
    "imputed_numeric_columns = pd.DataFrame(numeric_imputer.fit_transform(numeric_columns), columns=numeric_columns.columns)\n",
    "\n",
    "# Apply imputation to string columns\n",
    "non_numeric_imputer = SimpleImputer(strategy='most_frequent')\n",
    "imputed_non_numeric_columns = pd.DataFrame(non_numeric_imputer.fit_transform(non_numeric_columns), columns=non_numeric_columns.columns)\n",
    "\n",
    "\n",
    "# Combine the imputed numeric and non-numeric columns back into the final DataFrame\n",
    "cars_imputed= pd.concat([imputed_numeric_columns, imputed_non_numeric_columns], axis=1)\n",
    "\n"
   ]
  },
  {
   "cell_type": "code",
   "execution_count": 23,
   "id": "eca30b57",
   "metadata": {},
   "outputs": [
    {
     "data": {
      "text/html": [
       "<div>\n",
       "<style scoped>\n",
       "    .dataframe tbody tr th:only-of-type {\n",
       "        vertical-align: middle;\n",
       "    }\n",
       "\n",
       "    .dataframe tbody tr th {\n",
       "        vertical-align: top;\n",
       "    }\n",
       "\n",
       "    .dataframe thead th {\n",
       "        text-align: right;\n",
       "    }\n",
       "</style>\n",
       "<table border=\"1\" class=\"dataframe\">\n",
       "  <thead>\n",
       "    <tr style=\"text-align: right;\">\n",
       "      <th></th>\n",
       "      <th>Year</th>\n",
       "      <th>Distance</th>\n",
       "      <th>Owner</th>\n",
       "    </tr>\n",
       "  </thead>\n",
       "  <tbody>\n",
       "    <tr>\n",
       "      <th>count</th>\n",
       "      <td>6412.000000</td>\n",
       "      <td>6412.000000</td>\n",
       "      <td>6412.000000</td>\n",
       "    </tr>\n",
       "    <tr>\n",
       "      <th>mean</th>\n",
       "      <td>2016.981597</td>\n",
       "      <td>52669.824392</td>\n",
       "      <td>1.302246</td>\n",
       "    </tr>\n",
       "    <tr>\n",
       "      <th>std</th>\n",
       "      <td>2.857883</td>\n",
       "      <td>29514.891280</td>\n",
       "      <td>0.512555</td>\n",
       "    </tr>\n",
       "    <tr>\n",
       "      <th>min</th>\n",
       "      <td>2010.000000</td>\n",
       "      <td>0.000000</td>\n",
       "      <td>1.000000</td>\n",
       "    </tr>\n",
       "    <tr>\n",
       "      <th>25%</th>\n",
       "      <td>2015.000000</td>\n",
       "      <td>30731.000000</td>\n",
       "      <td>1.000000</td>\n",
       "    </tr>\n",
       "    <tr>\n",
       "      <th>50%</th>\n",
       "      <td>2017.000000</td>\n",
       "      <td>50307.000000</td>\n",
       "      <td>1.000000</td>\n",
       "    </tr>\n",
       "    <tr>\n",
       "      <th>75%</th>\n",
       "      <td>2019.000000</td>\n",
       "      <td>71874.750000</td>\n",
       "      <td>2.000000</td>\n",
       "    </tr>\n",
       "    <tr>\n",
       "      <th>max</th>\n",
       "      <td>2023.000000</td>\n",
       "      <td>971212.000000</td>\n",
       "      <td>4.000000</td>\n",
       "    </tr>\n",
       "  </tbody>\n",
       "</table>\n",
       "</div>"
      ],
      "text/plain": [
       "              Year       Distance        Owner\n",
       "count  6412.000000    6412.000000  6412.000000\n",
       "mean   2016.981597   52669.824392     1.302246\n",
       "std       2.857883   29514.891280     0.512555\n",
       "min    2010.000000       0.000000     1.000000\n",
       "25%    2015.000000   30731.000000     1.000000\n",
       "50%    2017.000000   50307.000000     1.000000\n",
       "75%    2019.000000   71874.750000     2.000000\n",
       "max    2023.000000  971212.000000     4.000000"
      ]
     },
     "execution_count": 23,
     "metadata": {},
     "output_type": "execute_result"
    }
   ],
   "source": [
    "cars_imputed.describe()"
   ]
  },
  {
   "cell_type": "code",
   "execution_count": 24,
   "id": "a4146200",
   "metadata": {},
   "outputs": [],
   "source": [
    "#cars= cars_imputed.copy()"
   ]
  },
  {
   "cell_type": "code",
   "execution_count": 25,
   "id": "ba68308d",
   "metadata": {},
   "outputs": [
    {
     "name": "stdout",
     "output_type": "stream",
     "text": [
      "<class 'pandas.core.frame.DataFrame'>\n",
      "RangeIndex: 6412 entries, 0 to 6411\n",
      "Data columns (total 7 columns):\n",
      " #   Column    Non-Null Count  Dtype  \n",
      "---  ------    --------------  -----  \n",
      " 0   Year      6412 non-null   float64\n",
      " 1   Distance  6412 non-null   float64\n",
      " 2   Owner     6412 non-null   float64\n",
      " 3   Car Name  6412 non-null   object \n",
      " 4   Fuel      6412 non-null   object \n",
      " 5   Drive     6412 non-null   object \n",
      " 6   Type      6412 non-null   object \n",
      "dtypes: float64(3), object(4)\n",
      "memory usage: 350.8+ KB\n"
     ]
    }
   ],
   "source": [
    "cars_imputed.info()"
   ]
  },
  {
   "cell_type": "code",
   "execution_count": 26,
   "id": "8819a7c8",
   "metadata": {},
   "outputs": [
    {
     "name": "stdout",
     "output_type": "stream",
     "text": [
      "<class 'pandas.core.frame.DataFrame'>\n",
      "Index: 6412 entries, 6027 to 4702\n",
      "Data columns (total 7 columns):\n",
      " #   Column    Non-Null Count  Dtype  \n",
      "---  ------    --------------  -----  \n",
      " 0   Car Name  6412 non-null   object \n",
      " 1   Year      6412 non-null   float64\n",
      " 2   Distance  6412 non-null   int64  \n",
      " 3   Owner     6412 non-null   int64  \n",
      " 4   Fuel      6412 non-null   object \n",
      " 5   Drive     6412 non-null   object \n",
      " 6   Type      6412 non-null   object \n",
      "dtypes: float64(1), int64(2), object(4)\n",
      "memory usage: 400.8+ KB\n"
     ]
    }
   ],
   "source": [
    "cars.info()"
   ]
  },
  {
   "cell_type": "markdown",
   "id": "8105a03d",
   "metadata": {},
   "source": [
    "# Creating a Pipeline"
   ]
  },
  {
   "cell_type": "code",
   "execution_count": 27,
   "id": "fa439bc6",
   "metadata": {},
   "outputs": [],
   "source": [
    "from sklearn.preprocessing import StandardScaler, OneHotEncoder\n",
    "from sklearn.compose import ColumnTransformer\n",
    "from sklearn.pipeline import Pipeline\n",
    "\n",
    "\n",
    "\n",
    "# Create separate DataFrames for numeric and non-numeric columns\n",
    "numeric_columns = cars.select_dtypes(include='number')\n",
    "non_numeric_columns = cars.select_dtypes(exclude='number')\n",
    "\n",
    "# Create a pipeline for numeric columns\n",
    "numeric_pipeline = Pipeline([\n",
    "    ('std_scaler', StandardScaler())\n",
    "])\n",
    "\n",
    "# Create a pipeline for non-numeric (string) columns\n",
    "non_numeric_pipeline = Pipeline([\n",
    "    ('onehot', OneHotEncoder(handle_unknown='ignore'))\n",
    "])\n",
    "\n",
    "# Create the column transformer\n",
    "preprocessor = ColumnTransformer([\n",
    "    ('numeric', numeric_pipeline, numeric_columns.columns),\n",
    "    ('non_numeric', non_numeric_pipeline, non_numeric_columns.columns)\n",
    "])\n",
    "\n",
    "# Fit and transform the data using the preprocessor pipeline"
   ]
  },
  {
   "cell_type": "code",
   "execution_count": 28,
   "id": "d359aa22",
   "metadata": {},
   "outputs": [],
   "source": [
    "cars_transformed = preprocessor.fit_transform(cars_imputed)"
   ]
  },
  {
   "cell_type": "markdown",
   "id": "2767df95",
   "metadata": {},
   "source": [
    "# Selecting a desired model\n"
   ]
  },
  {
   "cell_type": "code",
   "execution_count": 29,
   "id": "cfe770cb",
   "metadata": {},
   "outputs": [
    {
     "data": {
      "text/html": [
       "<style>#sk-container-id-1 {color: black;}#sk-container-id-1 pre{padding: 0;}#sk-container-id-1 div.sk-toggleable {background-color: white;}#sk-container-id-1 label.sk-toggleable__label {cursor: pointer;display: block;width: 100%;margin-bottom: 0;padding: 0.3em;box-sizing: border-box;text-align: center;}#sk-container-id-1 label.sk-toggleable__label-arrow:before {content: \"▸\";float: left;margin-right: 0.25em;color: #696969;}#sk-container-id-1 label.sk-toggleable__label-arrow:hover:before {color: black;}#sk-container-id-1 div.sk-estimator:hover label.sk-toggleable__label-arrow:before {color: black;}#sk-container-id-1 div.sk-toggleable__content {max-height: 0;max-width: 0;overflow: hidden;text-align: left;background-color: #f0f8ff;}#sk-container-id-1 div.sk-toggleable__content pre {margin: 0.2em;color: black;border-radius: 0.25em;background-color: #f0f8ff;}#sk-container-id-1 input.sk-toggleable__control:checked~div.sk-toggleable__content {max-height: 200px;max-width: 100%;overflow: auto;}#sk-container-id-1 input.sk-toggleable__control:checked~label.sk-toggleable__label-arrow:before {content: \"▾\";}#sk-container-id-1 div.sk-estimator input.sk-toggleable__control:checked~label.sk-toggleable__label {background-color: #d4ebff;}#sk-container-id-1 div.sk-label input.sk-toggleable__control:checked~label.sk-toggleable__label {background-color: #d4ebff;}#sk-container-id-1 input.sk-hidden--visually {border: 0;clip: rect(1px 1px 1px 1px);clip: rect(1px, 1px, 1px, 1px);height: 1px;margin: -1px;overflow: hidden;padding: 0;position: absolute;width: 1px;}#sk-container-id-1 div.sk-estimator {font-family: monospace;background-color: #f0f8ff;border: 1px dotted black;border-radius: 0.25em;box-sizing: border-box;margin-bottom: 0.5em;}#sk-container-id-1 div.sk-estimator:hover {background-color: #d4ebff;}#sk-container-id-1 div.sk-parallel-item::after {content: \"\";width: 100%;border-bottom: 1px solid gray;flex-grow: 1;}#sk-container-id-1 div.sk-label:hover label.sk-toggleable__label {background-color: #d4ebff;}#sk-container-id-1 div.sk-serial::before {content: \"\";position: absolute;border-left: 1px solid gray;box-sizing: border-box;top: 0;bottom: 0;left: 50%;z-index: 0;}#sk-container-id-1 div.sk-serial {display: flex;flex-direction: column;align-items: center;background-color: white;padding-right: 0.2em;padding-left: 0.2em;position: relative;}#sk-container-id-1 div.sk-item {position: relative;z-index: 1;}#sk-container-id-1 div.sk-parallel {display: flex;align-items: stretch;justify-content: center;background-color: white;position: relative;}#sk-container-id-1 div.sk-item::before, #sk-container-id-1 div.sk-parallel-item::before {content: \"\";position: absolute;border-left: 1px solid gray;box-sizing: border-box;top: 0;bottom: 0;left: 50%;z-index: -1;}#sk-container-id-1 div.sk-parallel-item {display: flex;flex-direction: column;z-index: 1;position: relative;background-color: white;}#sk-container-id-1 div.sk-parallel-item:first-child::after {align-self: flex-end;width: 50%;}#sk-container-id-1 div.sk-parallel-item:last-child::after {align-self: flex-start;width: 50%;}#sk-container-id-1 div.sk-parallel-item:only-child::after {width: 0;}#sk-container-id-1 div.sk-dashed-wrapped {border: 1px dashed gray;margin: 0 0.4em 0.5em 0.4em;box-sizing: border-box;padding-bottom: 0.4em;background-color: white;}#sk-container-id-1 div.sk-label label {font-family: monospace;font-weight: bold;display: inline-block;line-height: 1.2em;}#sk-container-id-1 div.sk-label-container {text-align: center;}#sk-container-id-1 div.sk-container {/* jupyter's `normalize.less` sets `[hidden] { display: none; }` but bootstrap.min.css set `[hidden] { display: none !important; }` so we also need the `!important` here to be able to override the default hidden behavior on the sphinx rendered scikit-learn.org. See: https://github.com/scikit-learn/scikit-learn/issues/21755 */display: inline-block !important;position: relative;}#sk-container-id-1 div.sk-text-repr-fallback {display: none;}</style><div id=\"sk-container-id-1\" class=\"sk-top-container\"><div class=\"sk-text-repr-fallback\"><pre>LinearRegression()</pre><b>In a Jupyter environment, please rerun this cell to show the HTML representation or trust the notebook. <br />On GitHub, the HTML representation is unable to render, please try loading this page with nbviewer.org.</b></div><div class=\"sk-container\" hidden><div class=\"sk-item\"><div class=\"sk-estimator sk-toggleable\"><input class=\"sk-toggleable__control sk-hidden--visually\" id=\"sk-estimator-id-1\" type=\"checkbox\" checked><label for=\"sk-estimator-id-1\" class=\"sk-toggleable__label sk-toggleable__label-arrow\">LinearRegression</label><div class=\"sk-toggleable__content\"><pre>LinearRegression()</pre></div></div></div></div></div>"
      ],
      "text/plain": [
       "LinearRegression()"
      ]
     },
     "execution_count": 29,
     "metadata": {},
     "output_type": "execute_result"
    }
   ],
   "source": [
    "from sklearn.linear_model import LinearRegression\n",
    "#from sklearn.tree import DecisionTreeRegressor\n",
    "# from sklearn.ensemble import RandomForestRegressor\n",
    "# from sklearn.ensemble import GradientBoostingRegressor\n",
    "# from sklearn.svm import SVR\n",
    "\n",
    "model=LinearRegression()\n",
    "#model= DecisionTreeRegressor()\n",
    "# model= RandomForestRegressor()\n",
    "#model=GradientBoostingRegressor()\n",
    "#model= SVR()\n",
    "model.fit(cars_transformed, cars_labels)"
   ]
  },
  {
   "cell_type": "code",
   "execution_count": 30,
   "id": "c32af2b6",
   "metadata": {},
   "outputs": [],
   "source": [
    "some_data=cars.iloc[:5]\n",
    "some_labels=cars_labels.iloc[:5]"
   ]
  },
  {
   "cell_type": "code",
   "execution_count": 31,
   "id": "5778fb97",
   "metadata": {},
   "outputs": [
    {
     "data": {
      "text/plain": [
       "array([ 546448.11368561,  607752.01428352,  350047.72163837,\n",
       "       1321488.7619091 ,  343298.9841443 ])"
      ]
     },
     "execution_count": 31,
     "metadata": {},
     "output_type": "execute_result"
    }
   ],
   "source": [
    "prepared_data=preprocessor.transform(some_data)\n",
    "model.predict(prepared_data)"
   ]
  },
  {
   "cell_type": "code",
   "execution_count": 32,
   "id": "872f33c4",
   "metadata": {},
   "outputs": [
    {
     "data": {
      "text/plain": [
       "[1048000, 865000, 450000, 1139000, 366000]"
      ]
     },
     "execution_count": 32,
     "metadata": {},
     "output_type": "execute_result"
    }
   ],
   "source": [
    "list(some_labels)"
   ]
  },
  {
   "cell_type": "markdown",
   "id": "f53c8b13",
   "metadata": {},
   "source": [
    "# Evaluating the model"
   ]
  },
  {
   "cell_type": "code",
   "execution_count": 33,
   "id": "cc9b33ed",
   "metadata": {},
   "outputs": [],
   "source": [
    "import numpy as np\n",
    "from sklearn.metrics import mean_squared_error\n",
    "from sklearn import metrics\n",
    "cars_predictions=model.predict(cars_transformed)\n",
    "mse=mean_squared_error(cars_labels, cars_predictions)\n",
    "rmse=np.sqrt(mse)\n"
   ]
  },
  {
   "cell_type": "code",
   "execution_count": 34,
   "id": "8f69a160",
   "metadata": {},
   "outputs": [
    {
     "data": {
      "text/plain": [
       "110873.18728416911"
      ]
     },
     "execution_count": 34,
     "metadata": {},
     "output_type": "execute_result"
    }
   ],
   "source": [
    "rmse"
   ]
  },
  {
   "cell_type": "markdown",
   "id": "d374113f",
   "metadata": {},
   "source": [
    "# Cross Validation"
   ]
  },
  {
   "cell_type": "code",
   "execution_count": 35,
   "id": "fef1c525",
   "metadata": {},
   "outputs": [],
   "source": [
    "from sklearn.model_selection import cross_val_score\n",
    "scores=cross_val_score(model, cars_transformed, cars_labels, scoring='neg_mean_squared_error', cv=10)\n",
    "rmse_scores=np.sqrt(-scores)"
   ]
  },
  {
   "cell_type": "code",
   "execution_count": 36,
   "id": "fa09423a",
   "metadata": {},
   "outputs": [
    {
     "data": {
      "text/plain": [
       "array([129671.08732465, 125325.58760877, 107674.38409355, 118314.64922706,\n",
       "       120581.81684358, 110784.51981996, 107081.05805107, 116674.65457817,\n",
       "       110216.88166002, 120652.58079595])"
      ]
     },
     "execution_count": 36,
     "metadata": {},
     "output_type": "execute_result"
    }
   ],
   "source": [
    "rmse_scores"
   ]
  },
  {
   "cell_type": "code",
   "execution_count": 37,
   "id": "37b80cf7",
   "metadata": {},
   "outputs": [],
   "source": [
    "def print_scores(scores):\n",
    "    print('scores: ', scores)\n",
    "    print('mean: ', scores.mean())\n",
    "    print('standard deviation: ', scores.std())\n",
    "    "
   ]
  },
  {
   "cell_type": "code",
   "execution_count": 38,
   "id": "643ff465",
   "metadata": {
    "scrolled": true
   },
   "outputs": [
    {
     "name": "stdout",
     "output_type": "stream",
     "text": [
      "scores:  [129671.08732465 125325.58760877 107674.38409355 118314.64922706\n",
      " 120581.81684358 110784.51981996 107081.05805107 116674.65457817\n",
      " 110216.88166002 120652.58079595]\n",
      "mean:  116697.72200027728\n",
      "standard deviation:  7259.190474412336\n"
     ]
    }
   ],
   "source": [
    "print_scores(rmse_scores)"
   ]
  },
  {
   "cell_type": "code",
   "execution_count": 39,
   "id": "afffbb3d",
   "metadata": {},
   "outputs": [
    {
     "name": "stdout",
     "output_type": "stream",
     "text": [
      "R-squared score on the training data: 82.32%\n"
     ]
    }
   ],
   "source": [
    "from sklearn.metrics import r2_score\n",
    "\n",
    "# Make predictions on the training data\n",
    "cars_predictions = model.predict(cars_transformed)\n",
    "\n",
    "# Calculate the R-squared score for the training data\n",
    "r2_train = r2_score(cars_labels, cars_predictions)\n",
    "\n",
    "print(f\"R-squared score on the training data: {r2_train*100:.2f}%\")"
   ]
  },
  {
   "cell_type": "markdown",
   "id": "e9f49865",
   "metadata": {},
   "source": [
    "# Saving the model"
   ]
  },
  {
   "cell_type": "code",
   "execution_count": 40,
   "id": "315241b2",
   "metadata": {},
   "outputs": [
    {
     "data": {
      "text/plain": [
       "['DR_carPrice.joblib']"
      ]
     },
     "execution_count": 40,
     "metadata": {},
     "output_type": "execute_result"
    }
   ],
   "source": [
    "from joblib import dump, load\n",
    "dump(model, 'DR_carPrice.joblib')"
   ]
  },
  {
   "cell_type": "markdown",
   "id": "4a26b95c",
   "metadata": {},
   "source": [
    "# Testing the model"
   ]
  },
  {
   "cell_type": "code",
   "execution_count": 41,
   "id": "574587f8",
   "metadata": {},
   "outputs": [
    {
     "data": {
      "text/plain": [
       "126785.10498527755"
      ]
     },
     "execution_count": 41,
     "metadata": {},
     "output_type": "execute_result"
    }
   ],
   "source": [
    "X_test = strat_test_set.drop(\"Price\", axis=1)\n",
    "Y_test = strat_test_set[\"Price\"].copy()\n",
    "\n",
    "X_test_prepared = preprocessor.transform(X_test)\n",
    "final_prediction = model.predict(X_test_prepared)\n",
    "final_mse=mean_squared_error(Y_test, final_prediction)\n",
    "final_rmse=np.sqrt(final_mse)\n",
    "\n",
    "final_rmse\n"
   ]
  },
  {
   "cell_type": "code",
   "execution_count": 42,
   "id": "5168414b",
   "metadata": {},
   "outputs": [
    {
     "name": "stdout",
     "output_type": "stream",
     "text": [
      "R-squared score on the test set: 78.06%\n"
     ]
    }
   ],
   "source": [
    "final_r_squared = model.score(X_test_prepared, Y_test)\n",
    "print(f\"R-squared score on the test set: {final_r_squared*100:.2f}%\")"
   ]
  },
  {
   "cell_type": "code",
   "execution_count": 43,
   "id": "ccc1d1b5",
   "metadata": {},
   "outputs": [],
   "source": [
    "# print(final_prediction, list(Y_test))"
   ]
  },
  {
   "cell_type": "code",
   "execution_count": 44,
   "id": "0a1cf4d9",
   "metadata": {},
   "outputs": [
    {
     "name": "stdout",
     "output_type": "stream",
     "text": [
      "[[-1.04336989 -0.18909979 -0.58973111  0.          0.          0.\n",
      "   0.          0.          0.          0.          0.          0.\n",
      "   0.          1.          0.          0.          0.          0.\n",
      "   0.          0.          0.          0.          0.          0.\n",
      "   0.          0.          0.          0.          0.          0.\n",
      "   0.          0.          0.          0.          0.          0.\n",
      "   0.          0.          0.          0.          0.          0.\n",
      "   0.          0.          0.          0.          0.          0.\n",
      "   0.          0.          0.          0.          0.          0.\n",
      "   0.          0.          0.          0.          0.          0.\n",
      "   0.          0.          0.          0.          0.          0.\n",
      "   0.          0.          0.          0.          0.          0.\n",
      "   0.          0.          0.          0.          0.          0.\n",
      "   0.          0.          0.          0.          0.          0.\n",
      "   0.          0.          0.          0.          0.          0.\n",
      "   0.          0.          0.          0.          0.          0.\n",
      "   0.          0.          0.          0.          0.          0.\n",
      "   0.          0.          0.          0.          0.          0.\n",
      "   0.          0.          0.          0.          0.          0.\n",
      "   0.          0.          0.          0.          0.          0.\n",
      "   0.          0.          0.          0.          0.          0.\n",
      "   1.          0.          0.          0.          1.          0.\n",
      "   0.          0.          0.          1.        ]]\n"
     ]
    }
   ],
   "source": [
    "prepared_data_array = prepared_data[0].toarray()\n",
    "print(prepared_data_array)"
   ]
  },
  {
   "cell_type": "code",
   "execution_count": null,
   "id": "e988cb65",
   "metadata": {},
   "outputs": [],
   "source": []
  },
  {
   "cell_type": "markdown",
   "id": "c027aa07",
   "metadata": {},
   "source": [
    "# Creating Function to use the model"
   ]
  },
  {
   "cell_type": "code",
   "execution_count": 45,
   "id": "8771b557",
   "metadata": {},
   "outputs": [
    {
     "data": {
      "text/plain": [
       "array(['Sedan', 'HatchBack', 'SUV', 'Lux_SUV', 'Lux_sedan'], dtype=object)"
      ]
     },
     "execution_count": 45,
     "metadata": {},
     "output_type": "execute_result"
    }
   ],
   "source": [
    "cars['Type'].unique()"
   ]
  },
  {
   "cell_type": "code",
   "execution_count": 46,
   "id": "bd0f6a17",
   "metadata": {},
   "outputs": [
    {
     "data": {
      "text/plain": [
       "array(['Manual', 'Automatic'], dtype=object)"
      ]
     },
     "execution_count": 46,
     "metadata": {},
     "output_type": "execute_result"
    }
   ],
   "source": [
    "cars['Drive'].unique()"
   ]
  },
  {
   "cell_type": "code",
   "execution_count": 47,
   "id": "1a47335c",
   "metadata": {},
   "outputs": [
    {
     "data": {
      "text/plain": [
       "array(['DIESEL', 'PETROL', 'CNG', 'LPG'], dtype=object)"
      ]
     },
     "execution_count": 47,
     "metadata": {},
     "output_type": "execute_result"
    }
   ],
   "source": [
    "cars['Fuel'].unique()"
   ]
  },
  {
   "cell_type": "code",
   "execution_count": 48,
   "id": "11b2f931",
   "metadata": {},
   "outputs": [],
   "source": [
    "def get_user_input():\n",
    "    car_name = input(\"Enter the car name: \").lower()\n",
    "    year = float(input(\"Enter the car year: \"))\n",
    "    distance = int(input(\"Enter the car distance: \"))\n",
    "    owner = int(input(\"Enter the number of previous owners: \"))\n",
    "    fuel = input(\"Enter the fuel type (PETROL /DIESEL /CNG /LPG): \").lower()\n",
    "    drive = input(\"Enter the drive type (Manual/ Automatic): \").lower()\n",
    "    car_type = input(\"Enter the car type (HatchBack /Sedan /SUV /Lux_SUV/ Lux_sedan): \").lower()\n",
    "\n",
    "    return car_name, year, distance, owner, fuel, drive, car_type\n"
   ]
  },
  {
   "cell_type": "code",
   "execution_count": 49,
   "id": "b6ce41bb",
   "metadata": {},
   "outputs": [],
   "source": [
    "def preprocess_user_input(user_input):\n",
    "    car_name, year, distance, owner, fuel, drive, car_type = user_input\n",
    "\n",
    "    # Create a DataFrame with the user input\n",
    "    user_data = pd.DataFrame({\n",
    "        'Car Name': [car_name],\n",
    "        'Year': [year],\n",
    "        'Distance': [distance],\n",
    "        'Owner': [owner],\n",
    "        'Fuel': [fuel],\n",
    "        'Drive': [drive],\n",
    "        'Type': [car_type]\n",
    "    })\n",
    "\n",
    "    # Apply imputation and other preprocessing steps\n",
    "    numeric_columns = user_data.select_dtypes(include='number')\n",
    "    numeric_imputer = SimpleImputer(strategy='median')\n",
    "    imputed_numeric_columns = pd.DataFrame(numeric_imputer.fit_transform(numeric_columns), columns=numeric_columns.columns)\n",
    "\n",
    "    non_numeric_columns = user_data.select_dtypes(exclude='number')\n",
    "    non_numeric_imputer = SimpleImputer(strategy='most_frequent')\n",
    "    imputed_non_numeric_columns = pd.DataFrame(non_numeric_imputer.fit_transform(non_numeric_columns), columns=non_numeric_columns.columns)\n",
    "\n",
    "    user_data_imputed = pd.concat([imputed_numeric_columns, imputed_non_numeric_columns], axis=1)\n",
    "\n",
    "    # Apply one-hot encoding to categorical features\n",
    "    user_data_transformed = preprocessor.transform(user_data_imputed)\n",
    "\n",
    "    return user_data_transformed\n"
   ]
  },
  {
   "cell_type": "code",
   "execution_count": 50,
   "id": "e563efed",
   "metadata": {},
   "outputs": [],
   "source": [
    "def predict_car_price(user_input_transformed):\n",
    "    price_prediction = model.predict(user_input_transformed)\n",
    "    return price_prediction[0]\n"
   ]
  },
  {
   "cell_type": "code",
   "execution_count": null,
   "id": "b390d50e",
   "metadata": {},
   "outputs": [],
   "source": []
  },
  {
   "cell_type": "markdown",
   "id": "d07ba9f7",
   "metadata": {},
   "source": [
    "# Using the model"
   ]
  },
  {
   "cell_type": "code",
   "execution_count": 51,
   "id": "5dd48c4d",
   "metadata": {},
   "outputs": [
    {
     "name": "stdout",
     "output_type": "stream",
     "text": [
      "Enter the car name: toyota innova crysta\n",
      "Enter the car year: 2020\n",
      "Enter the car distance: 50000\n",
      "Enter the number of previous owners: 1\n",
      "Enter the fuel type (PETROL /DIESEL /CNG /LPG): diesel\n",
      "Enter the drive type (Manual/ Automatic): manual\n",
      "Enter the car type (HatchBack /Sedan /SUV /Lux_SUV/ Lux_sedan): suv\n",
      "Predicted Car Price: 1051673.98\n"
     ]
    }
   ],
   "source": [
    "def main():\n",
    "    user_input = get_user_input()\n",
    "    user_input_transformed = preprocess_user_input(user_input)\n",
    "    predicted_price = predict_car_price(user_input_transformed)\n",
    "    print(f\"Predicted Car Price: {predicted_price:.2f}\")\n",
    "\n",
    "if __name__ == \"__main__\":\n",
    "    main()"
   ]
  },
  {
   "cell_type": "code",
   "execution_count": null,
   "id": "4e37794f",
   "metadata": {},
   "outputs": [],
   "source": []
  }
 ],
 "metadata": {
  "kernelspec": {
   "display_name": "Python 3 (ipykernel)",
   "language": "python",
   "name": "python3"
  },
  "language_info": {
   "codemirror_mode": {
    "name": "ipython",
    "version": 3
   },
   "file_extension": ".py",
   "mimetype": "text/x-python",
   "name": "python",
   "nbconvert_exporter": "python",
   "pygments_lexer": "ipython3",
   "version": "3.11.3"
  }
 },
 "nbformat": 4,
 "nbformat_minor": 5
}
